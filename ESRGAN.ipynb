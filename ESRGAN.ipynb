{
  "cells": [
    {
      "cell_type": "markdown",
      "metadata": {
        "colab_type": "text",
        "id": "view-in-github"
      },
      "source": [
        "<a href=\"https://colab.research.google.com/github/Graybang/CM4105-Honours-Project/blob/main/ESRGAN.ipynb\" target=\"_parent\"><img src=\"https://colab.research.google.com/assets/colab-badge.svg\" alt=\"Open In Colab\"/></a>"
      ]
    },
    {
      "cell_type": "code",
      "execution_count": 8,
      "metadata": {
        "id": "Hfx_kt6soZm_"
      },
      "outputs": [],
      "source": [
        "#https://www.kaggle.com/code/balraj98/single-image-super-resolution-gan-srgan-pytorch\n",
        "\n",
        "import tensorflow as tf\n"
      ]
    }
  ],
  "metadata": {
    "colab": {
      "authorship_tag": "ABX9TyP6Xx8AdacxCuj1rHWQ3kgY",
      "include_colab_link": true,
      "provenance": []
    },
    "kernelspec": {
      "display_name": "tf",
      "language": "python",
      "name": "python3"
    },
    "language_info": {
      "codemirror_mode": {
        "name": "ipython",
        "version": 3
      },
      "file_extension": ".py",
      "mimetype": "text/x-python",
      "name": "python",
      "nbconvert_exporter": "python",
      "pygments_lexer": "ipython3",
      "version": "3.9.16"
    },
    "vscode": {
      "interpreter": {
        "hash": "d316022ef301afafc80aa7d556eef7fcd8909b97650f5cce52bd09d3de0b61dd"
      }
    }
  },
  "nbformat": 4,
  "nbformat_minor": 0
}
