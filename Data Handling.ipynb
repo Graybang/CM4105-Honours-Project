{
  "cells": [
    {
      "cell_type": "markdown",
      "metadata": {
        "colab_type": "text",
        "id": "view-in-github"
      },
      "source": [
        "<a href=\"https://colab.research.google.com/github/Graybang/CM4105-Honours-Project/blob/main/ESRGAN.ipynb\" target=\"_parent\"><img src=\"https://colab.research.google.com/assets/colab-badge.svg\" alt=\"Open In Colab\"/></a>"
      ]
    },
    {
      "cell_type": "code",
      "execution_count": 1,
      "metadata": {
        "id": "Hfx_kt6soZm_"
      },
      "outputs": [
        {
          "ename": "error",
          "evalue": "OpenCV(4.7.0) D:\\a\\opencv-python\\opencv-python\\opencv\\modules\\imgproc\\src\\resize.cpp:4062: error: (-215:Assertion failed) !ssize.empty() in function 'cv::resize'\n",
          "output_type": "error",
          "traceback": [
            "\u001b[1;31m---------------------------------------------------------------------------\u001b[0m",
            "\u001b[1;31merror\u001b[0m                                     Traceback (most recent call last)",
            "Cell \u001b[1;32mIn[1], line 11\u001b[0m\n\u001b[0;32m      8\u001b[0m \u001b[39mfor\u001b[39;00m img \u001b[39min\u001b[39;00m os\u001b[39m.\u001b[39mlistdir(train_dir \u001b[39m+\u001b[39m \u001b[39m\"\u001b[39m\u001b[39m/original_images\u001b[39m\u001b[39m\"\u001b[39m):\n\u001b[0;32m      9\u001b[0m     img_array \u001b[39m=\u001b[39m cv2\u001b[39m.\u001b[39mimread(train_dir \u001b[39m+\u001b[39m \u001b[39m\"\u001b[39m\u001b[39m/original_images/\u001b[39m\u001b[39m\"\u001b[39m \u001b[39m+\u001b[39m img)\n\u001b[1;32m---> 11\u001b[0m     img_array \u001b[39m=\u001b[39m cv2\u001b[39m.\u001b[39;49mresize(img_array, (\u001b[39m128\u001b[39;49m,\u001b[39m128\u001b[39;49m))\n\u001b[0;32m     12\u001b[0m     lr_img_array \u001b[39m=\u001b[39m cv2\u001b[39m.\u001b[39mresize(img_array,(\u001b[39m32\u001b[39m,\u001b[39m32\u001b[39m))\n\u001b[0;32m     13\u001b[0m     cv2\u001b[39m.\u001b[39mimwrite(train_dir \u001b[39m+\u001b[39m \u001b[39m\"\u001b[39m\u001b[39m/hr_images/\u001b[39m\u001b[39m\"\u001b[39m \u001b[39m+\u001b[39m img, img_array)\n",
            "\u001b[1;31merror\u001b[0m: OpenCV(4.7.0) D:\\a\\opencv-python\\opencv-python\\opencv\\modules\\imgproc\\src\\resize.cpp:4062: error: (-215:Assertion failed) !ssize.empty() in function 'cv::resize'\n"
          ]
        }
      ],
      "source": [
        "\n",
        "import cv2\n",
        "import numpy as np\n",
        "import os\n",
        "import matplotlib.pyplot as plt \n",
        "\n",
        "train_dir = \"data\"\n",
        "\n",
        "for img in os.listdir(train_dir + \"/original_images\"):\n",
        "    img_array = cv2.imread(train_dir + \"/original_images/\" + img)\n",
        "\n",
        "    img_array = cv2.resize(img_array, (128,128))\n",
        "    lr_img_array = cv2.resize(img_array,(32,32))\n",
        "    cv2.imwrite(train_dir + \"/hr_images/\" + img, img_array)\n",
        "    cv2.imwrite(train_dir + \"/lr_images/\" + img, lr_img_array)"
      ]
    }
  ],
  "metadata": {
    "colab": {
      "authorship_tag": "ABX9TyP6Xx8AdacxCuj1rHWQ3kgY",
      "include_colab_link": true,
      "provenance": []
    },
    "kernelspec": {
      "display_name": "Python 3",
      "language": "python",
      "name": "python3"
    },
    "language_info": {
      "codemirror_mode": {
        "name": "ipython",
        "version": 3
      },
      "file_extension": ".py",
      "mimetype": "text/x-python",
      "name": "python",
      "nbconvert_exporter": "python",
      "pygments_lexer": "ipython3",
      "version": "3.10.8"
    },
    "vscode": {
      "interpreter": {
        "hash": "3d99ec146672efb08da3a8d3c18c681d6353a13e8377a5bb0039586e41ce926d"
      }
    }
  },
  "nbformat": 4,
  "nbformat_minor": 0
}
